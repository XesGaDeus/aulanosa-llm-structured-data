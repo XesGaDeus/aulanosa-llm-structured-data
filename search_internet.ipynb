{
 "cells": [
  {
   "cell_type": "code",
   "execution_count": null,
   "metadata": {
    "colab": {
     "base_uri": "https://localhost:8080/"
    },
    "id": "8o4tWgFKPmgz",
    "outputId": "583d9f90-571c-452d-8789-a6851320995f"
   },
   "outputs": [],
   "source": [
    "!pip install openai"
   ]
  },
  {
   "cell_type": "code",
   "execution_count": 46,
   "metadata": {
    "id": "oyE9p4kCOOL5"
   },
   "outputs": [],
   "source": [
    "from openai import OpenAI\n",
    "import requests\n",
    "import json"
   ]
  },
  {
   "cell_type": "markdown",
   "metadata": {
    "id": "FkWYUkODOSIc"
   },
   "source": [
    "This is the function we want to call:"
   ]
  },
  {
   "cell_type": "code",
   "execution_count": null,
   "metadata": {
    "collapsed": true,
    "id": "QOrmjIDmKGbT"
   },
   "outputs": [],
   "source": [
    "\n",
    "def brave_search(query):\n",
    "    url = \"https://api.search.brave.com/res/v1/web/search\"\n",
    "    headers = {\n",
    "        \"Accept\": \"application/json\",\n",
    "        \"Accept-Encoding\": \"gzip\",\n",
    "        \"X-Subscription-Token\": \"xxxxxxxxxxxxxxxx\"\n",
    "    }\n",
    "    params = {\n",
    "        \"q\": query\n",
    "    }\n",
    "\n",
    "    try:\n",
    "        response = requests.get(url, headers=headers, params=params)\n",
    "        response.raise_for_status() # Raise HTTPError for bad responses (4xx or 5xx)\n",
    "        return response.json()\n",
    "    except requests.exceptions.RequestException as e:\n",
    "        print(f\"An error occurred: {e}\")\n",
    "        return None\n",
    "\n",
    "# Example usage\n",
    "\n",
    "search_query = \"who won la vuelta in 2024\"\n",
    "results = brave_search(search_query)\n",
    "\n",
    "if results:\n",
    "    print(json.dumps(results, indent=4))"
   ]
  },
  {
   "cell_type": "markdown",
   "metadata": {
    "id": "i4ei8D1gQJ2R"
   },
   "source": [
    "Here we \"talk\" with chatgpt:"
   ]
  },
  {
   "cell_type": "code",
   "execution_count": 55,
   "metadata": {
    "id": "0fgKZgKsVm3e"
   },
   "outputs": [],
   "source": [
    "messages = [\n",
    "    {\"role\": \"system\", \"content\": \"You are an assistant that searchs on the internet in behalf of the user\"},\n",
    "    {\"role\": \"user\", \"content\": \"Who won la vuelta in 2024\"}]\n"
   ]
  },
  {
   "cell_type": "code",
   "execution_count": 56,
   "metadata": {
    "colab": {
     "base_uri": "https://localhost:8080/"
    },
    "id": "KIM6WXUjQTBc",
    "outputId": "9c47a8cb-13ff-4a9b-fb6a-531752ed0737"
   },
   "outputs": [
    {
     "name": "stdout",
     "output_type": "stream",
     "text": [
      "ChatCompletionMessageToolCall(id='call_11SVjgQeXkSAd0zAvlQGvERo', function=Function(arguments='{\"search_term\":\"La Vuelta a España 2024 winner\"}', name='search_in_internet'), type='function')\n"
     ]
    }
   ],
   "source": [
    "client = OpenAI(\n",
    "api_key=\"sk-asdfasdfwefwfwfwfwfwf\"\n",
    "\n",
    ")\n",
    "\n",
    "tools = [\n",
    "\n",
    "  {\n",
    "    \"type\": \"function\",\n",
    "    \"function\": {\n",
    "      \"name\": \"search_in_internet\",\n",
    "      \"description\": \"User wants to search something in internet\",\n",
    "      \"parameters\": {\n",
    "        \"type\": \"object\",\n",
    "        \"properties\": {\n",
    "          \"search_term\": {\n",
    "            \"type\": \"string\",\n",
    "            \"description\": \"The thing the user wants to search\"\n",
    "          }\n",
    "        },\n",
    "        \"required\": [\n",
    "          \"search_term\"\n",
    "        ]\n",
    "      }\n",
    "    }\n",
    "  }\n",
    "\n",
    "]\n",
    "\n",
    "completion = client.chat.completions.create(\n",
    "    model=\"gpt-4o\",\n",
    "    messages=messages,\n",
    "    tools=tools,\n",
    ")\n",
    "\n",
    "print(completion.choices[0].message.tool_calls[0])\n",
    "tool_call = completion.choices[0].message.tool_calls[0]"
   ]
  },
  {
   "cell_type": "markdown",
   "metadata": {
    "id": "HAJnte5LR_x8"
   },
   "source": [
    "Do the actual function calling"
   ]
  },
  {
   "cell_type": "code",
   "execution_count": 57,
   "metadata": {
    "id": "CF8BeEqEVANA"
   },
   "outputs": [],
   "source": [
    "arguments = json.loads(tool_call.function.arguments)\n",
    "search_term = arguments.get('search_term')\n",
    "search_in_internet_result = brave_search(search_term)\n"
   ]
  },
  {
   "cell_type": "markdown",
   "metadata": {
    "id": "wDyEqX4JTNlF"
   },
   "source": [
    "send the result back to the llm to interpret the results"
   ]
  },
  {
   "cell_type": "code",
   "execution_count": 58,
   "metadata": {
    "colab": {
     "base_uri": "https://localhost:8080/"
    },
    "id": "1MuG2TwWQ3_i",
    "outputId": "727882d6-106c-423b-dda8-30265e38436b"
   },
   "outputs": [
    {
     "name": "stdout",
     "output_type": "stream",
     "text": [
      "The winner of the 2024 Vuelta a España was Primož Roglič. This marked his fourth victory in this prestigious cycling race.\n"
     ]
    }
   ],
   "source": [
    "\n",
    "\n",
    "function_call_result_message = {\n",
    "    \"role\": \"tool\",\n",
    "    \"content\": json.dumps(search_in_internet_result),\n",
    "    \"tool_call_id\": tool_call.id\n",
    "}\n",
    "\n",
    "messages.append(completion.choices[0].message)\n",
    "messages.append(function_call_result_message)\n",
    "\n",
    "\n",
    "\n",
    "completion = client.chat.completions.create(\n",
    "    model=\"gpt-4o\",\n",
    "    messages=messages\n",
    ")\n",
    "\n",
    "\n",
    "print(completion.choices[0].message.content)"
   ]
  }
 ],
 "metadata": {
  "colab": {
   "provenance": []
  },
  "kernelspec": {
   "display_name": "Python 3",
   "name": "python3"
  },
  "language_info": {
   "name": "python"
  }
 },
 "nbformat": 4,
 "nbformat_minor": 0
}
