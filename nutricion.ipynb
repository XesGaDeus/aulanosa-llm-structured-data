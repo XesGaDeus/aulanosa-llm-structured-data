{
 "cells": [
  {
   "cell_type": "markdown",
   "id": "dd8c63f7-0ebc-4740-8ee5-291e4756fe36",
   "metadata": {},
   "source": [
    "# Uso de MyFitnessPal para conseguir la información nutricional de mi comida"
   ]
  },
  {
   "cell_type": "markdown",
   "id": "2f03a5b2-8085-4b35-97b5-309af6424b2b",
   "metadata": {},
   "source": [
    "Vamos a utilizar la librería de Python que tiene OpenAI que nos facilita la vida para utilizar uno de los modelos de ChatGPT."
   ]
  },
  {
   "cell_type": "code",
   "execution_count": 141,
   "id": "76dc234a-9ae2-4bd1-b391-760a0132c6ac",
   "metadata": {},
   "outputs": [],
   "source": [
    "import requests\n",
    "import os\n",
    "import openai\n",
    "import json\n",
    "from openai import OpenAI"
   ]
  },
  {
   "cell_type": "markdown",
   "id": "7fe89f4f-1d38-48c7-8582-42c750a2e226",
   "metadata": {},
   "source": [
    "Para esta demo, necesito dos api keys, una es la de Open AI, que me permite hacer peticiones a la API.\n",
    "La otra es la de Rapid API que viene muy bien para hacer demos o pruebas, tenéis a disposición múltiples apis y muchas son gratuitas o tienen un tier gratuito. Esto nos permite probar cosas sin tener que pagar o registrarnos en todas.\n",
    "El siguiente código carga mi fichero con las variables de entorno `.env` donde tengo metidas las dos api keys que necesito."
   ]
  },
  {
   "cell_type": "code",
   "execution_count": 142,
   "id": "7882a45d-dba3-4f3e-820a-65d195bfa078",
   "metadata": {},
   "outputs": [
    {
     "data": {
      "text/plain": [
       "True"
      ]
     },
     "execution_count": 142,
     "metadata": {},
     "output_type": "execute_result"
    }
   ],
   "source": [
    "from dotenv import load_dotenv\n",
    "load_dotenv()"
   ]
  },
  {
   "cell_type": "markdown",
   "id": "e96951ed-8494-4363-a52e-ae2813c7111f",
   "metadata": {},
   "source": [
    "Cargamos las variables de entorno para poder utilizarlas más cómodamente. Creamos el `client` de la librería de OpenAI. Por defecto, utilizará OPENAI_API_KEY cuando necesito la api key para conectarse. Si lo tenéis metido en otra variable, habrá que pasárselo como parámetro."
   ]
  },
  {
   "cell_type": "code",
   "execution_count": 143,
   "id": "bbdcb540-efc7-4020-aa39-12a208d637ce",
   "metadata": {},
   "outputs": [],
   "source": [
    "# Set your OpenAI and MyFitnessPal API keys\n",
    "OPENAI_API_KEY = os.environ.get('OPENAI_API_KEY')\n",
    "RAPIDAPI_KEY = os.environ.get('RAPIDAPI_KEY')\n",
    "\n",
    "client = OpenAI()\n",
    "model = \"gpt-4o-mini\""
   ]
  },
  {
   "cell_type": "markdown",
   "id": "cc92c7bf-eeb4-4a4f-9fe5-e31a0037d58c",
   "metadata": {},
   "source": [
    "Vamos a escribir primero una función para contactar con la api de MyFitnessPal y recuperar la información nutricional de un alimento.\n",
    "Esta función es muy sencilla, hace una petición a la api de MyFitnessPal para buscar por palabra clave. Devuelve un array de jsons con los resultados que ha encontrado. Aquí vamos a utilizar por defecto el primer resultado."
   ]
  },
  {
   "cell_type": "code",
   "execution_count": 144,
   "id": "caf7724a-c430-4ee8-8fad-12e9fb905bf4",
   "metadata": {},
   "outputs": [],
   "source": [
    "def fetch_nutrition_data(keyword):\n",
    "    url = \"https://myfitnesspal2.p.rapidapi.com/searchByKeyword\"\n",
    "    headers = {\n",
    "        \"x-rapidapi-host\": \"myfitnesspal2.p.rapidapi.com\",\n",
    "        \"x-rapidapi-key\": RAPIDAPI_KEY,        \n",
    "    }\n",
    "    params = {\n",
    "        \"keyword\": keyword,\n",
    "        \"page\": 1\n",
    "    }\n",
    "\n",
    "    response = requests.get(url, headers=headers, params=params)\n",
    "\n",
    "    if response.status_code == 200:\n",
    "        return response.json()\n",
    "    else:\n",
    "        return {\"error\": f\"API Error: {response.status_code} - {response.text}\"}"
   ]
  },
  {
   "cell_type": "markdown",
   "id": "e614388a-1a9f-43d8-99cb-64912fc09a8b",
   "metadata": {},
   "source": [
    "Ahora vamos a definir qué tool queremos proporcionar al modelo. En nuestro caso, queremos hacer una llamada a la api de MyFitnessPal, para eso necesitamos la palabra clave `keyword` y la cantidad tomada `quantity`. Con esto, el modelo sabe que puede llamar a esta `tool` cuando un usuario le dice lo que ha tomado."
   ]
  },
  {
   "cell_type": "code",
   "execution_count": 145,
   "id": "e94cb2d8-ff9d-434c-b06c-463a8e5c1111",
   "metadata": {},
   "outputs": [],
   "source": [
    "from pydantic import BaseModel\n",
    "\n",
    "class FoodItem(BaseModel):\n",
    "    keyword: str\n",
    "    quantity: int\n",
    "\n",
    "tools = [openai.pydantic_function_tool(FoodItem)]"
   ]
  },
  {
   "cell_type": "markdown",
   "id": "ebb3eeba-da80-42ef-b9ba-bf237a156f0e",
   "metadata": {},
   "source": [
    "Por último, necesitamos una función para contactar con chat gpt. El primer prompt que le vamos a pasar a chat gpt es con el `role: system`. Este le dará a chat gpt unas instrucciones de lo que esperamos del modelo. Qué queremos que haga? Qué debe hacer con lo que le diga el usuario? En este caso utilizamos un texto muy corto. Veréis que no hace falta escribir textos muy largos para conseguir buenos resultados rápidamente pero si queréis hacer cosas más avanzadas, quizás necesitéis darle alguna vuelta."
   ]
  },
  {
   "cell_type": "code",
   "execution_count": 146,
   "id": "46419df2-19fc-414e-b049-de3ae5b3162b",
   "metadata": {},
   "outputs": [],
   "source": [
    "messages = [\n",
    "    {\n",
    "        \"role\": \"system\",\n",
    "        \"content\": \"You are an assistant that helps summarize nutritional information. Use the supplied tools to get the nutrition data of the food items.\"\n",
    "    }\n",
    "]\n",
    "\n",
    "def parse_food_items(user_input):\n",
    "    messages.append({\n",
    "        \"role\": \"user\",\n",
    "        \"content\": user_input\n",
    "    })\n",
    "        \n",
    "    chat_completion = client.chat.completions.create(\n",
    "        model=model,\n",
    "        messages=messages,\n",
    "        tools=tools\n",
    "    )\n",
    "    \n",
    "    return chat_completion"
   ]
  },
  {
   "cell_type": "markdown",
   "id": "5db1f832-23c6-4fb4-9048-fc7f3bdfafc9",
   "metadata": {},
   "source": [
    "Ahora viene lo que es la interacción con el modelo. Primero pediremos al usuario que nos diga qué ha comido. Podríamos haber instruido al modelo para que lo haga pero es más sencillo pedirlo directamente."
   ]
  },
  {
   "cell_type": "code",
   "execution_count": 148,
   "id": "4dd13398-699a-4225-8be3-8925e96e800d",
   "metadata": {},
   "outputs": [
    {
     "name": "stdin",
     "output_type": "stream",
     "text": [
      "What are you eating? I'm eating two oreos.\n"
     ]
    }
   ],
   "source": [
    "user_input = input(\"What are you eating?\").strip()"
   ]
  },
  {
   "cell_type": "code",
   "execution_count": 149,
   "id": "085aa05f-50f7-44a5-94ac-a56e7f6f5a8b",
   "metadata": {},
   "outputs": [],
   "source": [
    "chat_completion = parse_food_items(user_input)"
   ]
  },
  {
   "cell_type": "code",
   "execution_count": 150,
   "id": "77195f78-1eba-421d-9ff6-4d95089c169d",
   "metadata": {},
   "outputs": [
    {
     "name": "stdout",
     "output_type": "stream",
     "text": [
      "ChatCompletion(id='chatcmpl-AcsR5J7Jow4Gu9BWZhZ2Jb14b2ah5', choices=[Choice(finish_reason='tool_calls', index=0, logprobs=None, message=ChatCompletionMessage(content=None, refusal=None, role='assistant', audio=None, function_call=None, tool_calls=[ChatCompletionMessageToolCall(id='call_2zHaPNGIg8USrTCR01IbznLE', function=Function(arguments='{\"keyword\": \"oreo\", \"quantity\": 2}', name='FoodItem'), type='function')]))], created=1733829079, model='gpt-4o-mini-2024-07-18', object='chat.completion', service_tier=None, system_fingerprint='fp_bba3c8e70b', usage=CompletionUsage(completion_tokens=35, prompt_tokens=80, total_tokens=115, completion_tokens_details=CompletionTokensDetails(accepted_prediction_tokens=0, audio_tokens=0, reasoning_tokens=0, rejected_prediction_tokens=0), prompt_tokens_details=PromptTokensDetails(audio_tokens=0, cached_tokens=0)))\n"
     ]
    }
   ],
   "source": [
    "print(chat_completion)"
   ]
  },
  {
   "cell_type": "markdown",
   "id": "c1ec67cd-108c-43e3-bba3-bce721521111",
   "metadata": {},
   "source": [
    "Podemos ver que el modelo ha detectado que tiene que llamar a una `tool` y ha formateado el json correctamente con el keyword y la cantidad."
   ]
  },
  {
   "cell_type": "markdown",
   "id": "af84deea-b163-45f6-9495-bd2fe9a3f36c",
   "metadata": {},
   "source": [
    "El siguiente código comprueba que se ha llamado a la `tool` y si es así, busca toda la información necesaria contactando con la api. Después genera un objeto con el resultado obtenido, cogemos el primero del array que devuelve la api de MyFitnessPal y lo guardamos."
   ]
  },
  {
   "cell_type": "code",
   "execution_count": 151,
   "id": "0f79d1fa-824f-4f18-a990-c72e01ad5225",
   "metadata": {},
   "outputs": [
    {
     "name": "stdout",
     "output_type": "stream",
     "text": [
      "Searching nutrition data for oreo (Quantity: 2)...\n",
      "[{'role': 'assistant', 'content': '{\"name\": \"Oreos\", \"brand\": \"Generic\", \"nutrition\": {\"Serving Size\": \"3 cookies\", \"Calories\": \"157.8\", \"Fat\": \"6.5g\", \"Carbs\": \"24.1g\", \"Protein\": \"1.8g\"}}'}]\n"
     ]
    }
   ],
   "source": [
    "if not chat_completion.choices[0].message.tool_calls:\n",
    "    print(chat_completion.choices[0].message.content)\n",
    "else:\n",
    "    function_call_result_messages = []\n",
    "    for tool_call in chat_completion.choices[0].message.tool_calls:\n",
    "        arguments = json.loads(tool_call.function.arguments)\n",
    "        print(f\"Searching nutrition data for {arguments['keyword']} (Quantity: {arguments['quantity']})...\")\n",
    "        nutrition_data = fetch_nutrition_data(arguments['keyword'])\n",
    "        \n",
    "        function_call_result_messages.append({\n",
    "            \"role\": \"assistant\",\n",
    "            \"content\": json.dumps(nutrition_data[0])\n",
    "        })\n",
    "\n",
    "print(function_call_result_messages)"
   ]
  },
  {
   "cell_type": "markdown",
   "id": "669d3024-8ade-4975-a011-cdca5e20e772",
   "metadata": {},
   "source": [
    "Ahora vamos a recrear el chat con los mensajes que envió el usuario pero el último mensaje añadirá la información nutricional y el modelo podrá responder con estos datos al usuario."
   ]
  },
  {
   "cell_type": "code",
   "execution_count": 152,
   "id": "128aa5f0-b00d-4796-882d-d6b26aeac051",
   "metadata": {},
   "outputs": [
    {
     "name": "stdout",
     "output_type": "stream",
     "text": [
      "{'model': 'gpt-4o-mini', 'messages': [{'role': 'system', 'content': 'You are an assistant that helps summarize nutritional information. Use the supplied tools to get the nutrition data of the food items.'}, {'role': 'user', 'content': \"I'm eating two oreos.\"}, {'role': 'assistant', 'content': '{\"name\": \"Oreos\", \"brand\": \"Generic\", \"nutrition\": {\"Serving Size\": \"3 cookies\", \"Calories\": \"157.8\", \"Fat\": \"6.5g\", \"Carbs\": \"24.1g\", \"Protein\": \"1.8g\"}}'}]}\n"
     ]
    }
   ],
   "source": [
    "completion_payload = {\n",
    "    \"model\": model,\n",
    "    \"messages\": messages + function_call_result_messages\n",
    "}\n",
    "print(completion_payload)"
   ]
  },
  {
   "cell_type": "markdown",
   "id": "eea85785-f52a-4106-8b60-9c0d92b4425f",
   "metadata": {},
   "source": [
    "Ahora debemos contactar de nuevo con nuestro modelo, pasándole los mensajes y ver qué respuesta le da al usuario."
   ]
  },
  {
   "cell_type": "code",
   "execution_count": 153,
   "id": "4a5c02d9-fa7f-4cb8-a4f8-3a8ef32aae9e",
   "metadata": {},
   "outputs": [],
   "source": [
    "response = client.chat.completions.create(\n",
    "    model=completion_payload[\"model\"],\n",
    "    messages=completion_payload[\"messages\"]\n",
    ")"
   ]
  },
  {
   "cell_type": "code",
   "execution_count": 154,
   "id": "6fb6aff0-00db-4d31-a5ac-033d1ee42a3f",
   "metadata": {},
   "outputs": [
    {
     "name": "stdout",
     "output_type": "stream",
     "text": [
      "Two Oreos contain approximately:\n",
      "\n",
      "- **Calories**: 105.2 kcal\n",
      "- **Fat**: 4.3 g\n",
      "- **Carbohydrates**: 16.1 g\n",
      "- **Protein**: 1.2 g\n",
      "\n",
      "(Note: These values are based on the nutritional information for three cookies. The values for two cookies are calculated proportionally.)\n"
     ]
    }
   ],
   "source": [
    "print(response.choices[0].message.content)"
   ]
  }
 ],
 "metadata": {
  "kernelspec": {
   "display_name": "aulanosaenv",
   "language": "python",
   "name": "aulanosaenv"
  },
  "language_info": {
   "codemirror_mode": {
    "name": "ipython",
    "version": 3
   },
   "file_extension": ".py",
   "mimetype": "text/x-python",
   "name": "python",
   "nbconvert_exporter": "python",
   "pygments_lexer": "ipython3",
   "version": "3.13.0"
  }
 },
 "nbformat": 4,
 "nbformat_minor": 5
}
