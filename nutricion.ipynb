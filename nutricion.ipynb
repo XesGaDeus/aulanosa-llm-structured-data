{
 "cells": [
  {
   "cell_type": "markdown",
   "id": "dd8c63f7-0ebc-4740-8ee5-291e4756fe36",
   "metadata": {},
   "source": [
    "# Uso de MyFitnessPal para conseguir la información nutricional de mi comida"
   ]
  },
  {
   "cell_type": "markdown",
   "id": "2f03a5b2-8085-4b35-97b5-309af6424b2b",
   "metadata": {},
   "source": [
    "Vamos a utilizar la librería de Python que tiene OpenAI que nos facilita la vida para utilizar uno de los modelos de ChatGPT."
   ]
  },
  {
   "cell_type": "code",
   "execution_count": 28,
   "id": "76dc234a-9ae2-4bd1-b391-760a0132c6ac",
   "metadata": {},
   "outputs": [],
   "source": [
    "import requests\n",
    "import os\n",
    "from openai import OpenAI"
   ]
  },
  {
   "cell_type": "markdown",
   "id": "7fe89f4f-1d38-48c7-8582-42c750a2e226",
   "metadata": {},
   "source": [
    "Para esta demo, necesito dos api keys, una es la de Open AI, que me permite hacer peticiones a la API.\n",
    "La otra es la de Rapid API que viene muy bien para hacer demos o pruebas, tenéis a disposición múltiples apis y muchas son gratuitas o tienen un tier gratuito. Esto nos permite probar cosas sin tener que pagar o registrarnos en todas.\n",
    "El siguiente código carga mi fichero con las variables de entorno `.env` donde tengo metidas las dos api keys que necesito."
   ]
  },
  {
   "cell_type": "code",
   "execution_count": 29,
   "id": "7882a45d-dba3-4f3e-820a-65d195bfa078",
   "metadata": {},
   "outputs": [
    {
     "data": {
      "text/plain": [
       "True"
      ]
     },
     "execution_count": 29,
     "metadata": {},
     "output_type": "execute_result"
    }
   ],
   "source": [
    "from dotenv import load_dotenv\n",
    "load_dotenv()"
   ]
  },
  {
   "cell_type": "markdown",
   "id": "e96951ed-8494-4363-a52e-ae2813c7111f",
   "metadata": {},
   "source": [
    "Cargamos las variables de entorno para poder utilizarlas más cómodamente. Creamos el `client` de la librería de OpenAI. Por defecto, utilizará OPENAI_API_KEY cuando necesito la api key para conectarse. Si lo tenéis metido en otra variable, habrá que pasárselo como parámetro."
   ]
  },
  {
   "cell_type": "code",
   "execution_count": 30,
   "id": "bbdcb540-efc7-4020-aa39-12a208d637ce",
   "metadata": {},
   "outputs": [],
   "source": [
    "# Set your OpenAI and MyFitnessPal API keys\n",
    "OPENAI_API_KEY = os.environ.get('OPENAI_API_KEY')\n",
    "RAPIDAPI_KEY = os.environ.get('RAPIDAPI_KEY')\n",
    "\n",
    "client = OpenAI()"
   ]
  },
  {
   "cell_type": "markdown",
   "id": "cc92c7bf-eeb4-4a4f-9fe5-e31a0037d58c",
   "metadata": {},
   "source": [
    "Vamos a escribir primero una función para contactar con la api de MyFitnessPal y recuperar la información nutricional de un alimento.\n",
    "Esta función es muy sencilla, hace una petición a la api de MyFitnessPal para buscar por palabra clave. Devuelve un array de jsons con los resultados que ha encontrado. Aquí vamos a utilizar por defecto el primer resultado."
   ]
  },
  {
   "cell_type": "code",
   "execution_count": 31,
   "id": "caf7724a-c430-4ee8-8fad-12e9fb905bf4",
   "metadata": {},
   "outputs": [],
   "source": [
    "def fetch_nutrition_data(keyword):\n",
    "    url = \"https://myfitnesspal2.p.rapidapi.com/searchByKeyword\"\n",
    "    headers = {\n",
    "        \"x-rapidapi-host\": \"myfitnesspal2.p.rapidapi.com\",\n",
    "        \"x-rapidapi-key\": RAPIDAPI_KEY,        \n",
    "    }\n",
    "    params = {\n",
    "        \"keyword\": keyword,\n",
    "        \"page\": 1\n",
    "    }\n",
    "\n",
    "    response = requests.get(url, headers=headers, params=params)\n",
    "\n",
    "    if response.status_code == 200:\n",
    "        return response.json()\n",
    "    else:\n",
    "        return {\"error\": f\"API Error: {response.status_code} - {response.text}\"}"
   ]
  },
  {
   "cell_type": "markdown",
   "id": "e614388a-1a9f-43d8-99cb-64912fc09a8b",
   "metadata": {},
   "source": [
    "Por último, necesitamos una función para contactar con chat gpt. El primer prompt que le vamos a pasar a chat gpt es con el `role: system`. Este le dará a chat gpt unas instrucciones de lo que esperamos del modelo. Qué queremos que haga? Qué debe hacer con lo que le diga el usuario? En este caso utilizamos un texto muy corto. Veréis que no hace falta escribir textos muy largos para conseguir buenos resultados rápidamente pero si queréis hacer cosas más avanzadas, quizás necesitéis darle alguna vuelta.\n",
    "\n",
    "El otro prompt explica a "
   ]
  },
  {
   "cell_type": "code",
   "execution_count": 32,
   "id": "46419df2-19fc-414e-b049-de3ae5b3162b",
   "metadata": {},
   "outputs": [],
   "source": [
    "def parse_food_items(user_input):\n",
    "    gpt_prompt = (\"\"\"\n",
    "        You are a food item extractor. Break down the user's input into a list of food items \n",
    "        with quantities and descriptions. For example:\\n\\n\n",
    "        Input: 'I ate 2 oreos and a glass of milk'\n",
    "        Output: [{'quantity': '2, 'item': 'oreos'}, {'quantity': 1, 'item': 'glass of milk'}]\\n\\n\n",
    "        \"\"\"\n",
    "    )\n",
    "\n",
    "    gpt_prompt += f\"Input: '{user_input}'. \\nOutput:\"\n",
    "        \n",
    "    chat_completion = client.chat.completions.create(\n",
    "        model=\"gpt-4o-mini\",\n",
    "        messages=[\n",
    "            {\n",
    "                \"role\": \"system\",\n",
    "                \"content\": \"You are an assistant that helps summarize nutritional information.\"\n",
    "            },\n",
    "            {\n",
    "                \"role\": \"user\",\n",
    "                \"content\": user_input\n",
    "            }\n",
    "        ]\n",
    "    )\n",
    "    \n",
    "    message = chat_completion.choices[0].message.content\n",
    "    \n",
    "    return message"
   ]
  },
  {
   "cell_type": "markdown",
   "id": "5db1f832-23c6-4fb4-9048-fc7f3bdfafc9",
   "metadata": {},
   "source": [
    "Ahora viene lo que es la interacción con el modelo. Primero pediremos al usuario que nos "
   ]
  },
  {
   "cell_type": "code",
   "execution_count": 35,
   "id": "4dd13398-699a-4225-8be3-8925e96e800d",
   "metadata": {},
   "outputs": [
    {
     "name": "stdin",
     "output_type": "stream",
     "text": [
      "What are you eating? I am eating a sandwich of ham and cheese and three snack bars of chocolate\n"
     ]
    }
   ],
   "source": [
    "user_input = input(\"What are you eating?\").strip()"
   ]
  },
  {
   "cell_type": "code",
   "execution_count": 36,
   "id": "085aa05f-50f7-44a5-94ac-a56e7f6f5a8b",
   "metadata": {},
   "outputs": [
    {
     "name": "stdout",
     "output_type": "stream",
     "text": [
      "To summarize the nutritional information for your meal, we can break it down into two components: the ham and cheese sandwich and the chocolate snack bars.\n",
      "\n",
      "1. **Ham and Cheese Sandwich**: \n",
      "   - **Ham**: Typically high in protein but can also contain sodium and fat. The nutritional values can vary based on the type of ham (e.g., turkey, honey-glazed, or regular).\n",
      "   - **Cheese**: Generally provides protein and calcium, but can also be high in saturated fats and sodium. Common types like cheddar or Swiss have different calorie counts.\n",
      "   - **Bread**: Provides carbohydrates and fiber, though the exact amounts depend on the type of bread used (white, whole wheat, etc.).\n",
      "\n",
      "2. **Chocolate Snack Bars**: \n",
      "   - These often contain sugars, fats, and carbohydrates. The specific nutritional values depend on the brand and ingredients used. Typically, they can be calorie-dense, with added sugars and some protein if they contain nuts or protein sources.\n",
      "\n",
      "### Estimated Nutritional Breakdown (General Ranges):\n",
      "- **Ham and Cheese Sandwich**:\n",
      "  - Calories: 250-400 kcal\n",
      "  - Protein: 15-25 g\n",
      "  - Fat: 10-20 g\n",
      "  - Carbohydrates: 25-35 g\n",
      "\n",
      "- **Three Chocolate Snack Bars**:\n",
      "  - Calories: 300-600 kcal (100-200 kcal per bar)\n",
      "  - Sugars: 30-60 g (10-20 g per bar)\n",
      "  - Fat: 15-30 g (5-10 g per bar)\n",
      "\n",
      "### Total Estimated Values:\n",
      "Combining your meal:\n",
      "- **Total Calories**: Approximately 550-1000 kcal\n",
      "- **Total Protein**: Approximately 15-30 g\n",
      "- **Total Fat**: Approximately 25-50 g\n",
      "- **Total Carbohydrates**: Approximately 55-95 g\n",
      "\n",
      "Keep in mind that these values can vary greatly based on the specific ingredients used in your sandwich and the types of chocolate snack bars you consumed. For a precise breakdown, refer to the nutrition labels of the products used.\n"
     ]
    }
   ],
   "source": [
    "food_items = parse_food_items(user_input)\n",
    "# food_items = [{\"quantity\": 2, \"item\": \"oreos\"}, {\"quantity\": 1, \"item\": \"cup of apple juice\"}]\n",
    "\n",
    "print(food_items)"
   ]
  },
  {
   "cell_type": "code",
   "execution_count": null,
   "id": "4a5c02d9-fa7f-4cb8-a4f8-3a8ef32aae9e",
   "metadata": {},
   "outputs": [],
   "source": []
  }
 ],
 "metadata": {
  "kernelspec": {
   "display_name": "aulanosaenv",
   "language": "python",
   "name": "aulanosaenv"
  },
  "language_info": {
   "codemirror_mode": {
    "name": "ipython",
    "version": 3
   },
   "file_extension": ".py",
   "mimetype": "text/x-python",
   "name": "python",
   "nbconvert_exporter": "python",
   "pygments_lexer": "ipython3",
   "version": "3.13.0"
  }
 },
 "nbformat": 4,
 "nbformat_minor": 5
}
