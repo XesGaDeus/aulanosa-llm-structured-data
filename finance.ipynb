{
 "cells": [
  {
   "cell_type": "markdown",
   "id": "c9ce9ad3-9771-4fd1-998e-e6a27aa9c0ce",
   "metadata": {},
   "source": [
    "# Uso de AlphaVantage sin tooling para ver el cambio de moneda."
   ]
  },
  {
   "cell_type": "markdown",
   "id": "de580c7a-0b2e-4d97-8928-ec3a74d64f8c",
   "metadata": {},
   "source": [
    "Importamos los módulos como siempre y cargamos las variables de entorno. También utilizamos el mismo modelo de Open AI y la api de Rapid Api."
   ]
  },
  {
   "cell_type": "code",
   "execution_count": 86,
   "id": "079ebac0-7c12-449e-b7d3-2ef62a22a477",
   "metadata": {},
   "outputs": [],
   "source": [
    "import requests\n",
    "import os\n",
    "import openai\n",
    "import json\n",
    "from openai import OpenAI\n",
    "\n",
    "from dotenv import load_dotenv\n",
    "load_dotenv()\n",
    "\n",
    "# Set your OpenAI and MyFitnessPal API keys\n",
    "OPENAI_API_KEY = os.environ.get('OPENAI_API_KEY')\n",
    "RAPIDAPI_KEY = os.environ.get('RAPIDAPI_KEY')\n",
    "\n",
    "client = OpenAI()\n",
    "model = \"gpt-4o-mini\""
   ]
  },
  {
   "cell_type": "markdown",
   "id": "5543691e-d3ac-465c-a57f-6ab9b9f13665",
   "metadata": {},
   "source": [
    "Antes de nada vamos a escribir como siempre nuestra función para contactar con la api y conseguir el cambio de moneda:"
   ]
  },
  {
   "cell_type": "code",
   "execution_count": 87,
   "id": "1f98cdf7-a78b-408c-862d-8c7341feb3f1",
   "metadata": {},
   "outputs": [],
   "source": [
    "def get_currency_exchange(from_currency, to_currency):\n",
    "    url = \"https://alpha-vantage.p.rapidapi.com/query\"\n",
    "    headers = {\n",
    "        \"x-rapidapi-host\": \"alpha-vantage.p.rapidapi.com\",\n",
    "        \"x-rapidapi-key\": RAPIDAPI_KEY,        \n",
    "    }\n",
    "    params = {\n",
    "        \"from_currency\": from_currency,\n",
    "        \"to_currency\": to_currency,\n",
    "        \"function\": \"CURRENCY_EXCHANGE_RATE\"\n",
    "    }\n",
    "\n",
    "    response = requests.get(url, headers=headers, params=params)\n",
    "\n",
    "    if response.status_code == 200:\n",
    "        return response.json()\n",
    "    else:\n",
    "        return {\"error\": f\"API Error: {response.status_code} - {response.text}\"}"
   ]
  },
  {
   "cell_type": "markdown",
   "id": "077fb6b7-43fc-4253-b493-d40240d8dd2d",
   "metadata": {},
   "source": [
    "En este caso vamos a utilizar una técnica llamada Few-Shot Prompting. Esta técnica consiste en proporcionar al modelo ejemplos de lo que queremos que nos devuelva para trabajar con ello. En nuestro caso queremos un json con las monedas que queremos utilizar. Cambiar euro a dolar por ejemplo. Necesitaremos un json tal como este:\n",
    "```json\n",
    "{\n",
    "    \"to_currency\": \"EUR\",\n",
    "    \"from_currency\": \"USD\"\n",
    "}\n",
    "```\n",
    "Una vez recibido este json, tendremos que llamar a nuestra función para recuperar el exchange rate y pasárselo al modelo. El modelo deberá responder con esto en ves de un json."
   ]
  },
  {
   "cell_type": "code",
   "execution_count": 163,
   "id": "09e06608-bcd8-40f3-8d13-3bd49d7b5def",
   "metadata": {},
   "outputs": [],
   "source": [
    "messages = [\n",
    "    {\n",
    "        \"role\": \"system\",\n",
    "        \"content\": \"\"\"\n",
    "            You are an assistant that checks the currency exchange of 2 currencies and calculate exchange. The user will provide the 2 currencies in the prompt. \n",
    "            First you must reply with a json. If a user does not provide 2 currencies, ask the user to provide them. \n",
    "            - Example 1:\n",
    "                - User: \"I want to know the exchange between euros and dollars, please\"\n",
    "                - Response: \"{ \"from_currency\": \"EUR\", \"to_currency\": \"USD\" }\"\n",
    "                - Assistant: \"Exchange rate from EUR and USD is: 1.04940000\"\n",
    "                - Response: \"The exchange rate from EUR and USD is: 1.04940000\"\n",
    "            - Example 2:\n",
    "                - User: \"I want to convert 1000 yens into pounds.\"\n",
    "                - Response: \"{ \"from_currency\": \"JPY\", \"to_currency\": \"GBP\" }\"\n",
    "                - Assistant: \"Exchange rate from JPY and GBP is: 0,0052\"\n",
    "                - Response: \"1000 yens are 5.2 pounds.\"\n",
    "            Then, you will be provided the exchange rate and you must calculate or return the result only, not the json.\n",
    "        \"\"\"\n",
    "    }\n",
    "]\n",
    "\n",
    "def chat(user_input):\n",
    "    messages.append({\n",
    "        \"role\": \"user\",\n",
    "        \"content\": user_input\n",
    "    })\n",
    "        \n",
    "    chat_completion = client.chat.completions.create(\n",
    "        model=model,\n",
    "        messages=messages\n",
    "    )\n",
    "    \n",
    "    return chat_completion"
   ]
  },
  {
   "cell_type": "markdown",
   "id": "c2e51175-e7c8-4472-ac6e-5adf7290d15f",
   "metadata": {},
   "source": [
    "Ahora viene lo que es la interacción con el modelo. Preguntaremos al usuario por su email y el modelo devolverá la tool que debemos utilizar."
   ]
  },
  {
   "cell_type": "code",
   "execution_count": 164,
   "id": "bd790432-cd06-4803-bb9e-d62c22d6a7a6",
   "metadata": {},
   "outputs": [
    {
     "name": "stdin",
     "output_type": "stream",
     "text": [
      "What do you want to know? Convert 100 euros to dollars.\n"
     ]
    }
   ],
   "source": [
    "user_input = input(\"What do you want to know?\").strip()"
   ]
  },
  {
   "cell_type": "code",
   "execution_count": 168,
   "id": "bb4c1de9-386b-4984-83e9-426101118bb5",
   "metadata": {},
   "outputs": [],
   "source": [
    "chat_completion = chat(user_input)"
   ]
  },
  {
   "cell_type": "code",
   "execution_count": 169,
   "id": "5834d00d-af33-4214-95f3-672ba99598c0",
   "metadata": {},
   "outputs": [
    {
     "name": "stdout",
     "output_type": "stream",
     "text": [
      "ChatCompletion(id='chatcmpl-AdE0fb0gvzczCfOWOHnrlsMyu97rd', choices=[Choice(finish_reason='stop', index=0, logprobs=None, message=ChatCompletionMessage(content='{\"from_currency\": \"EUR\", \"to_currency\": \"USD\"}', refusal=None, role='assistant', audio=None, function_call=None, tool_calls=None))], created=1733912009, model='gpt-4o-mini-2024-07-18', object='chat.completion', service_tier=None, system_fingerprint='fp_bba3c8e70b', usage=CompletionUsage(completion_tokens=14, prompt_tokens=279, total_tokens=293, completion_tokens_details=CompletionTokensDetails(accepted_prediction_tokens=0, audio_tokens=0, reasoning_tokens=0, rejected_prediction_tokens=0), prompt_tokens_details=PromptTokensDetails(audio_tokens=0, cached_tokens=0)))\n"
     ]
    }
   ],
   "source": [
    "print(chat_completion)"
   ]
  },
  {
   "cell_type": "markdown",
   "id": "d9593503-07ad-4c0f-8103-6d682a051c2f",
   "metadata": {},
   "source": [
    "El modelo en este caso ha respondido correctamente y ha devuelto un json correcto. Debemos detectarlo y efectuar la llamada como si fuera una llamada a una tool."
   ]
  },
  {
   "cell_type": "code",
   "execution_count": 170,
   "id": "b3b362aa-3cdd-4774-a65f-f802cca8ce48",
   "metadata": {},
   "outputs": [
    {
     "name": "stdout",
     "output_type": "stream",
     "text": [
      "Checking exchange between EUR and USD...\n",
      "{\n",
      "  \"Realtime Currency Exchange Rate\": {\n",
      "    \"1. From_Currency Code\": \"EUR\",\n",
      "    \"2. From_Currency Name\": \"Euro\",\n",
      "    \"3. To_Currency Code\": \"USD\",\n",
      "    \"4. To_Currency Name\": \"United States Dollar\",\n",
      "    \"5. Exchange Rate\": \"1.04960000\",\n",
      "    \"6. Last Refreshed\": \"2024-12-11 10:13:31\",\n",
      "    \"7. Time Zone\": \"UTC\",\n",
      "    \"8. Bid Price\": \"1.04957000\",\n",
      "    \"9. Ask Price\": \"1.04962000\"\n",
      "  }\n",
      "}\n"
     ]
    }
   ],
   "source": [
    "# esta función comprueba que el string sea un json.\n",
    "def is_json(myjson):\n",
    "  try:\n",
    "    json.loads(myjson)\n",
    "  except ValueError as e:\n",
    "    print(e)\n",
    "    return False\n",
    "  return True\n",
    "\n",
    "if is_json(chat_completion.choices[0].message.content):\n",
    "    json_data = json.loads(chat_completion.choices[0].message.content)\n",
    "    exchange_data = get_currency_exchange(json_data['from_currency'], json_data['to_currency'])\n",
    "\n",
    "    print(f\"Checking exchange between {json_data['from_currency']} and {json_data['to_currency']}...\")\n",
    "\n",
    "    print(json.dumps(exchange_data, indent=2))\n",
    "\n",
    "    exchange_data_msg = [{\n",
    "        \"role\": \"assistant\",\n",
    "        \"content\": f\"Exchange rate from {json_data['from_currency']} and {json_data['to_currency']} is: {exchange_data['Realtime Currency Exchange Rate']['5. Exchange Rate']}\"\n",
    "    }]\n",
    "else:\n",
    "    print(\"Not a json\")\n",
    "    print(chat_completion.choices[0].message.content)"
   ]
  },
  {
   "cell_type": "code",
   "execution_count": 171,
   "id": "7a4b948a-2371-450a-bd35-8ef67b9dde7b",
   "metadata": {},
   "outputs": [
    {
     "name": "stdout",
     "output_type": "stream",
     "text": [
      "{'model': 'gpt-4o-mini', 'messages': [{'role': 'system', 'content': '\\n            You are an assistant that checks the currency exchange of 2 currencies and calculate exchange. The user will provide the 2 currencies in the prompt. \\n            First you must reply with a json. If a user does not provide 2 currencies, ask the user to provide them. \\n            - Example 1:\\n                - User: \"I want to know the exchange between euros and dollars, please\"\\n                - Response: \"{ \"from_currency\": \"EUR\", \"to_currency\": \"USD\" }\"\\n                - Assistant: \"Exchange rate from EUR and USD is: 1.04940000\"\\n                - Response: \"The exchange rate from EUR and USD is: 1.04940000\"\\n            - Example 2:\\n                - User: \"I want to convert 1000 yens into pounds.\"\\n                - Response: \"{ \"from_currency\": \"JPY\", \"to_currency\": \"GBP\" }\"\\n                - Assistant: \"Exchange rate from JPY and GBP is: 0,0052\"\\n                - Response: \"1000 yens are 5.2 pounds.\"\\n            Then, you will be provided the exchange rate and you must calculate or return the result only, not the json.\\n        '}, {'role': 'user', 'content': 'Convert 100 euros to dollars.'}, {'role': 'user', 'content': 'Convert 100 euros to dollars.'}, {'role': 'assistant', 'content': 'Exchange rate from EUR and USD is: 1.04960000'}]}\n"
     ]
    }
   ],
   "source": [
    "completion_payload = {\n",
    "    \"model\": model,\n",
    "    \"messages\": messages + exchange_data_msg\n",
    "}\n",
    "print(completion_payload)"
   ]
  },
  {
   "cell_type": "code",
   "execution_count": 172,
   "id": "c2f59116-67be-4163-8d82-7de90e544908",
   "metadata": {},
   "outputs": [],
   "source": [
    "response = client.chat.completions.create(\n",
    "    model=completion_payload[\"model\"],\n",
    "    messages=completion_payload[\"messages\"]\n",
    ")"
   ]
  },
  {
   "cell_type": "code",
   "execution_count": 173,
   "id": "5cf1fed6-f40c-4a88-be95-fdc605bb495e",
   "metadata": {},
   "outputs": [
    {
     "name": "stdout",
     "output_type": "stream",
     "text": [
      "100 euros are 104.96 dollars.\n"
     ]
    }
   ],
   "source": [
    "print(response.choices[0].message.content)"
   ]
  }
 ],
 "metadata": {
  "kernelspec": {
   "display_name": "aulanosaenv",
   "language": "python",
   "name": "aulanosaenv"
  },
  "language_info": {
   "codemirror_mode": {
    "name": "ipython",
    "version": 3
   },
   "file_extension": ".py",
   "mimetype": "text/x-python",
   "name": "python",
   "nbconvert_exporter": "python",
   "pygments_lexer": "ipython3",
   "version": "3.13.0"
  }
 },
 "nbformat": 4,
 "nbformat_minor": 5
}
