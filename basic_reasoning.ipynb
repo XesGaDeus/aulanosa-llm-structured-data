{
  "cells": [
    {
      "cell_type": "code",
      "execution_count": null,
      "metadata": {
        "id": "-fxFQqYVRKli"
      },
      "outputs": [],
      "source": [
        "!pip install openai  httpx==0.27.2 instructor"
      ]
    },
    {
      "cell_type": "markdown",
      "metadata": {},
      "source": [
        "use instructor library and pydantic Enum to have the model \"decide\" what to do "
      ]
    },
    {
      "cell_type": "code",
      "execution_count": 8,
      "metadata": {
        "colab": {
          "base_uri": "https://localhost:8080/"
        },
        "id": "Wep1bQ1DbWd7",
        "outputId": "aad55b3e-6641-45d3-d787-9d42f61452c7"
      },
      "outputs": [
        {
          "name": "stdout",
          "output_type": "stream",
          "text": [
            "action=<Action.ORDER: 'order an item'> query='pizza'\n"
          ]
        }
      ],
      "source": [
        "import instructor\n",
        "from pydantic import BaseModel, Field\n",
        "from enum import Enum\n",
        "from openai import OpenAI\n",
        "\n",
        "class Action(str, Enum):\n",
        "    SEARCH = \"search for information\"\n",
        "    ORDER = \"order an item\"\n",
        "\n",
        "# Define your desired output structure\n",
        "class UserAction(BaseModel):\n",
        "    action: Action = Field(..., description=\"The action the user wants to perform.\")\n",
        "    query: str = Field(..., description=\"Details about the action (search query, item to order, etc.).\")\n",
        "\n",
        "\n",
        "# Patch the OpenAI client\n",
        "client = instructor.from_openai(OpenAI(\n",
        "api_key=\"sk-asdfasdfasdfasdfasdf\" #Replace with your actual key\n",
        "\n",
        "))\n",
        "\n",
        "# Example usage:\n",
        "res = client.chat.completions.create(\n",
        "    model=\"gpt-4o-mini\",\n",
        "    response_model=UserAction,\n",
        "    messages=[{\"role\": \"user\", \"content\": \"I want to order a pizza.\"}],\n",
        ")\n",
        "\n",
        "print(res)\n",
        "\n"
      ]
    },
    {
      "cell_type": "code",
      "execution_count": 10,
      "metadata": {
        "colab": {
          "base_uri": "https://localhost:8080/"
        },
        "id": "ZzOvSVXpbxTC",
        "outputId": "5d8b63af-690b-4478-cdcd-59844b1980f9"
      },
      "outputs": [
        {
          "data": {
            "text/plain": [
              "UserAction(action=<Action.SEARCH: 'search for information'>, query='Eiffel Tower')"
            ]
          },
          "execution_count": 10,
          "metadata": {},
          "output_type": "execute_result"
        }
      ],
      "source": [
        "res = client.chat.completions.create(\n",
        "    model=\"gpt-4o-mini\",\n",
        "    response_model=UserAction,\n",
        "    messages=[{\"role\": \"user\", \"content\": \"Search for information about the Eiffel Tower.\"}],\n",
        ")\n",
        "\n",
        "res"
      ]
    },
    {
      "cell_type": "code",
      "execution_count": null,
      "metadata": {
        "id": "FHtQxoZOcA4A"
      },
      "outputs": [],
      "source": [
        "def interpret_user_action(user_action):\n",
        "  \"\"\"\n",
        "  Interprets the user's action and prints whether they want information or to order something.\n",
        "\n",
        "  Args:\n",
        "    user_action: A UserAction object representing the user's intent.\n",
        "  \"\"\"\n",
        "  if user_action.action == Action.SEARCH:\n",
        "    print(\"The user wants information about:\", user_action.query)\n",
        "  elif user_action.action == Action.ORDER:\n",
        "    print(\"The user wants to order:\", user_action.query)\n",
        "  else:\n",
        "    print(\"The user's action is unclear.\")\n",
        "\n",
        "# Example usage (assuming you have a UserAction object named 'res'):\n",
        "interpret_user_action(res)"
      ]
    }
  ],
  "metadata": {
    "colab": {
      "provenance": []
    },
    "kernelspec": {
      "display_name": "Python 3",
      "name": "python3"
    },
    "language_info": {
      "name": "python"
    }
  },
  "nbformat": 4,
  "nbformat_minor": 0
}
