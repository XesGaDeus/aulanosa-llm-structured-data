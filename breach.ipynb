{
 "cells": [
  {
   "cell_type": "markdown",
   "id": "e0777139-b986-4293-b709-3f0ee1660c35",
   "metadata": {},
   "source": [
    "# Uso de DataBreachChecker para saber si tu cuenta ha sido hackeada"
   ]
  },
  {
   "cell_type": "markdown",
   "id": "c789df01-fa99-445f-be9f-a521daed7c76",
   "metadata": {},
   "source": [
    "Vamos a utilizar la librería de Python que tiene OpenAI que nos facilita la vida para utilizar uno de los modelos de ChatGPT."
   ]
  },
  {
   "cell_type": "code",
   "execution_count": 1,
   "id": "aa691aab-b731-4b1a-aaa3-eaedf79dbc1e",
   "metadata": {},
   "outputs": [],
   "source": [
    "import requests\n",
    "import os\n",
    "import openai\n",
    "import json\n",
    "from openai import OpenAI"
   ]
  },
  {
   "cell_type": "markdown",
   "id": "3d66ce43-ece0-49dd-892c-8a7449266348",
   "metadata": {},
   "source": [
    "Necesitamos las api keys de OpenAi y de Rapid Api."
   ]
  },
  {
   "cell_type": "code",
   "execution_count": 2,
   "id": "e49644a7-ef05-4d1f-8d17-11808a8ae78b",
   "metadata": {},
   "outputs": [
    {
     "data": {
      "text/plain": [
       "True"
      ]
     },
     "execution_count": 2,
     "metadata": {},
     "output_type": "execute_result"
    }
   ],
   "source": [
    "from dotenv import load_dotenv\n",
    "load_dotenv()"
   ]
  },
  {
   "cell_type": "markdown",
   "id": "dee52613-8b0e-4ceb-93ca-64535f31c243",
   "metadata": {},
   "source": [
    "Cargamos las variables de entorno por facilidad de uso. También usaremos el modelo \"gpt-4o-mini\" que es muy barato y para pruebas es posiblemente el mejor."
   ]
  },
  {
   "cell_type": "code",
   "execution_count": 3,
   "id": "8ebbdf5c-ec33-469c-af7c-cea55209f2e8",
   "metadata": {},
   "outputs": [],
   "source": [
    "# Set your OpenAI and MyFitnessPal API keys\n",
    "OPENAI_API_KEY = os.environ.get('OPENAI_API_KEY')\n",
    "RAPIDAPI_KEY = os.environ.get('RAPIDAPI_KEY')\n",
    "\n",
    "client = OpenAI()\n",
    "model = \"gpt-4o-mini\""
   ]
  },
  {
   "cell_type": "markdown",
   "id": "b0704bdd-5fb9-4d3f-80f4-2d2f2345c1b3",
   "metadata": {},
   "source": [
    "En este caso, vamos a definir una única `tool` para el modelo y vamos a utilizar json. Lo que necesitamos es el email del usuario para pasárselo a la api."
   ]
  },
  {
   "cell_type": "code",
   "execution_count": 5,
   "id": "ecb4c1d3-4596-4715-b11c-8cb7c731180f",
   "metadata": {},
   "outputs": [],
   "source": [
    "tools = [\n",
    "    {\n",
    "        \"type\": \"function\",\n",
    "        \"function\": {\n",
    "            \"name\": \"check_email\",\n",
    "            \"parameters\": {\n",
    "                \"type\": \"object\",\n",
    "                \"properties\": {\n",
    "                    \"email\": {\"type\": \"string\"}\n",
    "                },\n",
    "            },\n",
    "        }\n",
    "    }\n",
    "]"
   ]
  },
  {
   "cell_type": "markdown",
   "id": "2d1c6ed3-4af8-4b6f-8ecf-eb3c80f40062",
   "metadata": {},
   "source": [
    "Ahora, toca escribir la función que contactará con la api de rapid api y DataBreachChecker, tenemos que pasarle el email como parámetro."
   ]
  },
  {
   "cell_type": "code",
   "execution_count": 6,
   "id": "ea7d5ad4-8dd2-461d-b708-31ab2a574644",
   "metadata": {},
   "outputs": [],
   "source": [
    "def check_email(email):\n",
    "    url = \"https://data-breach-checker.p.rapidapi.com/api/breach\"\n",
    "    headers = {\n",
    "        \"x-rapidapi-host\": \"data-breach-checker.p.rapidapi.com\",\n",
    "        \"x-rapidapi-key\": RAPIDAPI_KEY,        \n",
    "    }\n",
    "    params = {\n",
    "        \"email\": email\n",
    "    }\n",
    "\n",
    "    response = requests.get(url, headers=headers, params=params)\n",
    "\n",
    "    if response.status_code == 200:\n",
    "        return response.json()\n",
    "    else:\n",
    "        return {\"error\": f\"API Error: {response.status_code} - {response.text}\"}"
   ]
  },
  {
   "cell_type": "markdown",
   "id": "febb3101-e95a-4347-9667-2e04c6f0ebc5",
   "metadata": {},
   "source": [
    "Escribiré ahora una función para contactar con chatgpt."
   ]
  },
  {
   "cell_type": "code",
   "execution_count": 10,
   "id": "6dfdd34a-fc51-4328-885a-a1b61faeda5a",
   "metadata": {},
   "outputs": [],
   "source": [
    "messages = [\n",
    "    {\n",
    "        \"role\": \"system\",\n",
    "        \"content\": \"You are an assistant that checks if the user email has been hacked. Use the supplied tools to check if the email was hacked.\"\n",
    "    }\n",
    "]\n",
    "\n",
    "def chat(user_input):\n",
    "    messages.append({\n",
    "        \"role\": \"user\",\n",
    "        \"content\": user_input\n",
    "    })\n",
    "        \n",
    "    chat_completion = client.chat.completions.create(\n",
    "        model=model,\n",
    "        messages=messages,\n",
    "        tools=tools\n",
    "    )\n",
    "    \n",
    "    return chat_completion"
   ]
  },
  {
   "cell_type": "markdown",
   "id": "e5c53cf1-c676-4c7d-a231-cb705f9448a5",
   "metadata": {},
   "source": [
    "Ahora viene lo que es la interacción con el modelo. Preguntaremos al usuario por su email y el modelo devolverá la tool que debemos utilizar."
   ]
  },
  {
   "cell_type": "code",
   "execution_count": 9,
   "id": "64de9cd8-d66e-4ba4-9dc8-5099b0d7103c",
   "metadata": {},
   "outputs": [
    {
     "name": "stdin",
     "output_type": "stream",
     "text": [
      "Please enter your email: miguel.lopez@deus.ai\n"
     ]
    }
   ],
   "source": [
    "user_input = input(\"Please enter your email:\").strip()"
   ]
  },
  {
   "cell_type": "code",
   "execution_count": 11,
   "id": "93f1b2e8-a2c9-463b-9309-993b17511fa5",
   "metadata": {},
   "outputs": [],
   "source": [
    "chat_completion = chat(user_input)"
   ]
  },
  {
   "cell_type": "code",
   "execution_count": 13,
   "id": "0565e4b1-e32e-420d-9448-e13e5cc8b62b",
   "metadata": {},
   "outputs": [
    {
     "name": "stdout",
     "output_type": "stream",
     "text": [
      "ChatCompletion(id='chatcmpl-AdCenPkLVp7ymo2tj2tuzpFNsRw5B', choices=[Choice(finish_reason='tool_calls', index=0, logprobs=None, message=ChatCompletionMessage(content=None, refusal=None, role='assistant', audio=None, function_call=None, tool_calls=[ChatCompletionMessageToolCall(id='call_NJK8hO431f9OCEoqoiSaTbbZ', function=Function(arguments='{\"email\":\"miguel.lopez@deus.ai\"}', name='check_email'), type='function')]))], created=1733906809, model='gpt-4o-mini-2024-07-18', object='chat.completion', service_tier=None, system_fingerprint='fp_bba3c8e70b', usage=CompletionUsage(completion_tokens=21, prompt_tokens=71, total_tokens=92, completion_tokens_details=CompletionTokensDetails(accepted_prediction_tokens=0, audio_tokens=0, reasoning_tokens=0, rejected_prediction_tokens=0), prompt_tokens_details=PromptTokensDetails(audio_tokens=0, cached_tokens=0)))\n"
     ]
    }
   ],
   "source": [
    "print(chat_completion)"
   ]
  },
  {
   "cell_type": "markdown",
   "id": "4e711b18-8d11-4d70-af32-e4830ce2a5fe",
   "metadata": {},
   "source": [
    "Como podemos ver el modelo ha llamado a una `tool` la única que tenemos `check_email`. Es nuestro trabajo llamarla."
   ]
  },
  {
   "cell_type": "code",
   "execution_count": 17,
   "id": "4e94a306-1259-4d51-9801-77b02f9a6940",
   "metadata": {},
   "outputs": [
    {
     "name": "stdout",
     "output_type": "stream",
     "text": [
      "Checking email: miguel.lopez@deus.ai\n",
      "[{'role': 'assistant', 'content': 'Email is not listed.'}]\n"
     ]
    }
   ],
   "source": [
    "if not chat_completion.choices[0].message.tool_calls:\n",
    "    print(chat_completion.choices[0].message.content)\n",
    "else:\n",
    "    function_call_result_messages = []\n",
    "    for tool_call in chat_completion.choices[0].message.tool_calls:\n",
    "        arguments = json.loads(tool_call.function.arguments)\n",
    "        print(f\"Checking email: {arguments['email']}\")\n",
    "        email_data = check_email(arguments['email'])\n",
    "\n",
    "        if not email_data['data']:\n",
    "            content = \"Email is not listed.\" \n",
    "        else: \n",
    "            f\"Email is listed in {email_data['data'].count()} breaches.\"\n",
    "        \n",
    "        function_call_result_messages.append({\n",
    "            \"role\": \"assistant\",\n",
    "            \"content\": content\n",
    "        })\n",
    "\n",
    "print(function_call_result_messages)"
   ]
  },
  {
   "cell_type": "markdown",
   "id": "04187fb8-8200-46cd-b093-85d220d9a689",
   "metadata": {},
   "source": [
    "Ahora vamos a recrear el chat con los mensajes que envió el usuario pero el último mensaje añadirá la información del email y el modelo podrá responder al usuario."
   ]
  },
  {
   "cell_type": "code",
   "execution_count": 18,
   "id": "6fe60ffa-5291-4a42-8ae4-4f3bc4d792ef",
   "metadata": {},
   "outputs": [
    {
     "name": "stdout",
     "output_type": "stream",
     "text": [
      "{'model': 'gpt-4o-mini', 'messages': [{'role': 'system', 'content': 'You are an assistant that checks if the user email has been hacked. Use the supplied tools to check if the email was hacked.'}, {'role': 'user', 'content': 'miguel.lopez@deus.ai'}, {'role': 'assistant', 'content': 'Email is not listed.'}]}\n"
     ]
    }
   ],
   "source": [
    "completion_payload = {\n",
    "    \"model\": model,\n",
    "    \"messages\": messages + function_call_result_messages\n",
    "}\n",
    "print(completion_payload)"
   ]
  },
  {
   "cell_type": "markdown",
   "id": "3c0e0d90-e0e0-4203-93c1-a58fd02835a6",
   "metadata": {},
   "source": [
    "Volvemos a contactar con el modelo con estos datos."
   ]
  },
  {
   "cell_type": "code",
   "execution_count": 19,
   "id": "8d88100e-b9ac-4bf6-abd0-73658b7e9e1b",
   "metadata": {},
   "outputs": [],
   "source": [
    "response = client.chat.completions.create(\n",
    "    model=completion_payload[\"model\"],\n",
    "    messages=completion_payload[\"messages\"]\n",
    ")"
   ]
  },
  {
   "cell_type": "code",
   "execution_count": 20,
   "id": "3ae39e3f-728a-4c36-acde-1cb3452e4cdd",
   "metadata": {},
   "outputs": [
    {
     "name": "stdout",
     "output_type": "stream",
     "text": [
      "I checked the provided email address (miguel.lopez@deus.ai) for any known data breaches. There are no reported issues or hacks associated with this email. It appears to be secure for now. However, it's always a good practice to change your password regularly and enable two-factor authentication for added security.\n"
     ]
    }
   ],
   "source": [
    "print(response.choices[0].message.content)"
   ]
  },
  {
   "cell_type": "code",
   "execution_count": null,
   "id": "b1bc7bb7-596e-4780-8c72-d5db26a1b809",
   "metadata": {},
   "outputs": [],
   "source": []
  }
 ],
 "metadata": {
  "kernelspec": {
   "display_name": "aulanosaenv",
   "language": "python",
   "name": "aulanosaenv"
  },
  "language_info": {
   "codemirror_mode": {
    "name": "ipython",
    "version": 3
   },
   "file_extension": ".py",
   "mimetype": "text/x-python",
   "name": "python",
   "nbconvert_exporter": "python",
   "pygments_lexer": "ipython3",
   "version": "3.13.0"
  }
 },
 "nbformat": 4,
 "nbformat_minor": 5
}
